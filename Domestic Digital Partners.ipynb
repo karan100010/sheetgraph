{
 "cells": [
  {
   "cell_type": "code",
   "execution_count": 1,
   "metadata": {},
   "outputs": [
    {
     "name": "stderr",
     "output_type": "stream",
     "text": [
      "2020-08-17 11:20:11 Xpal-Sutradhar-MainThread-[load_xpal_smriti] INFO : Loaded config from /opt/xpal-data//avxpal.json\n",
      "2020-08-17 11:20:11 Dwarkanath-MainThread-[__init__] INFO : My name is \u001b[38;5;1mDwarkanath\u001b[0m\n",
      "2020-08-17 11:20:11 Dwarkanath-MainThread-[setup_disk] INFO : I already have a datapath at the location \u001b[38;5;3m/opt/xpal-data/xetrapal-data\u001b[0m\n",
      "2020-08-17 11:20:11 Dwarkanath-MainThread-[start_session] INFO : Creating a new path for this session at \u001b[38;5;3m/opt/xpal-data/xetrapal-data/Dwarkanath-2020Aug17-112011\u001b[0m\n",
      "2020-08-17 11:20:11 Dwarkanath-MainThread-[start_session] INFO : Creating a new download path for this session at \u001b[38;5;3m/opt/xpal-data/xetrapal-data/Dwarkanath-2020Aug17-112011/downloads\u001b[0m\n",
      "2020-08-17 11:20:11 Dwarkanath-MainThread-[start_session] INFO : Creating a new json path for this session at \u001b[38;5;3m/opt/xpal-data/xetrapal-data/Dwarkanath-2020Aug17-112011/json\u001b[0m \n",
      "2020-08-17 11:20:11 Dwarkanath-MainThread-[log_to_disk] INFO : Saving messages to log at \u001b[38;5;3m/opt/xpal-data/xetrapal-data/Dwarkanath-2020Aug17-112011/jeevasession.log\u001b[0m\n",
      "2020-08-17 11:20:11 Dwarkanath-MainThread-[dhaarana] INFO : Trying to load module xetrapal.astra\n",
      "2020-08-17 11:20:11 Dwarkanath-MainThread-[dhaarana] INFO : I now have functions ['get_browser', 'get_headless_browser', 'get_xpal_logger']\n",
      "2020-08-17 11:20:11 Dwarkanath-MainThread-[dhaarana] INFO : Trying to load module xetrapal.karma\n",
      "2020-08-17 11:20:11 Dwarkanath-MainThread-[dhaarana] INFO : I now have functions ['close_modal', 'copy_smriti', 'deepcopy', 'download_file', 'export_table', 'get_aadesh', 'get_browser', 'get_color_json', 'get_formatted_json', 'get_headless_browser', 'get_remote_smriti_status', 'get_smriti_status', 'get_xpal_logger', 'load_config', 'load_config_json', 'load_xpal_smriti', 'pull_smritis', 'save_config', 'save_data_to_jsonfile', 'scroll_page', 'scroll_to_bottom', 'scroll_up', 'urlopen', 'uuid4', 'wait']\n",
      "2020-08-17 11:20:11 Dwarkanath-MainThread-[update_astras] INFO : Trying to update astras\n",
      "2020-08-17 11:20:11 Dwarkanath-MainThread-[update_astras] WARNING : I dont seem to have any astras\n",
      "2020-08-17 11:20:11 Dwarkanath-MainThread-[update_vaahans] INFO : Trying to update vaahans\n",
      "2020-08-17 11:20:11 Dwarkanath-MainThread-[update_vaahans] WARNING : I dont seem to have any vaahans\n",
      "2020-08-17 11:20:11 Xpal-Sutradhar-MainThread-[gd_get_googledriver] INFO : Trying to log into Google drive\n"
     ]
    }
   ],
   "source": [
    "import xetrapal, pandas,json, numpy, requests\n",
    "from bs4 import BeautifulSoup\n",
    "from xetrapal import gdastras\n",
    "a=xetrapal.karma.load_xpal_smriti(\"/opt/xpal-data//avxpal.json\")\n",
    "avxpal=xetrapal.Xetrapal(a)\n",
    "config=xetrapal.karma.load_config_json(a.configfile)\n",
    "pygsheetsconfig = xetrapal.karma.load_config_json(config['Pygsheets']['avdrive'])\n",
    "gd = gdastras.gd_get_googledriver(pygsheetsconfig)\n"
   ]
  },
  {
   "cell_type": "code",
   "execution_count": 2,
   "metadata": {},
   "outputs": [],
   "source": [
    "iodgraph = gd.open(\"The Internet of DevSec\")\n",
    "ddsheet=gd.open(\"Domestic Digital Partner Potentials\")\n",
    "\n",
    "#rels=ndhmgraph.work"
   ]
  },
  {
   "cell_type": "code",
   "execution_count": 3,
   "metadata": {},
   "outputs": [],
   "source": [
    "edgesheet=ddsheet.worksheet_by_title(\"edges\")\n",
    "nodesheet=ddsheet.worksheet_by_title(\"nodes\")\n",
    "\n",
    "\n",
    "#omidyarsheet=ddsheet.worksheet_by_title(\"Omidyar Partners\")"
   ]
  },
  {
   "cell_type": "code",
   "execution_count": 4,
   "metadata": {
    "scrolled": true
   },
   "outputs": [],
   "source": [
    "edges = edgesheet.get_as_df(include_tailing_empty=False)\n"
   ]
  },
  {
   "cell_type": "code",
   "execution_count": 5,
   "metadata": {},
   "outputs": [],
   "source": [
    "links=edges.to_dict(orient=\"records\")"
   ]
  },
  {
   "cell_type": "code",
   "execution_count": 6,
   "metadata": {},
   "outputs": [],
   "source": [
    "#def update_nodes(edges):\n",
    "nodescur=set(list(edges.source.unique())+list(edges.target.unique()))\n",
    "nodesdf=nodesheet.get_as_df()\n",
    "list(nodesdf.id.unique())\n",
    "for node in nodescur:\n",
    "    if node not in list(nodesdf.id.unique()):\n",
    "        print(node)\n",
    "        nodesheet.insert_rows(nodesheet.rows,values=[node,'Unknown'], inherit=True)\n",
    "        xetrapal.karma.wait(waittime=\"short\")\n",
    " "
   ]
  },
  {
   "cell_type": "code",
   "execution_count": 7,
   "metadata": {},
   "outputs": [],
   "source": [
    "nodesdf=nodesheet.get_as_df()\n",
    "nodesdf['group']=nodesdf.category.apply(lambda x: list(nodesdf.category.unique()).index(x)+1)\n",
    "nodesheet.set_dataframe(nodesdf,(1,1))"
   ]
  },
  {
   "cell_type": "code",
   "execution_count": 8,
   "metadata": {},
   "outputs": [],
   "source": [
    "with open(\"RawData/graphdata.json\",\"w\") as f:\n",
    "    f.write(json.dumps({\"nodes\":nodesdf.to_dict(orient=\"records\"),\"links\":links}))\n",
    "    #f.write({\"nodes\":nodes.to_json(orient=\"records\"),\"links\":links})"
   ]
  },
  {
   "cell_type": "markdown",
   "metadata": {},
   "source": [
    "# All Below This is Experimental\n"
   ]
  },
  {
   "cell_type": "code",
   "execution_count": 9,
   "metadata": {},
   "outputs": [],
   "source": [
    "def get_node_cats():\n",
    "    return list(nodesdf.category.unique())"
   ]
  }
 ],
 "metadata": {
  "kernelspec": {
   "display_name": "Python 3",
   "language": "python",
   "name": "python3"
  },
  "language_info": {
   "codemirror_mode": {
    "name": "ipython",
    "version": 3
   },
   "file_extension": ".py",
   "mimetype": "text/x-python",
   "name": "python",
   "nbconvert_exporter": "python",
   "pygments_lexer": "ipython3",
   "version": "3.8.2"
  }
 },
 "nbformat": 4,
 "nbformat_minor": 4
}
