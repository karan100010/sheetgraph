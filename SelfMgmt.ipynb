{
 "cells": [
  {
   "cell_type": "code",
   "execution_count": 1,
   "metadata": {
    "scrolled": false
   },
   "outputs": [
    {
     "name": "stderr",
     "output_type": "stream",
     "text": [
      "2020-08-10 10:53:37 Xpal-Sutradhar-MainThread-[load_xpal_smriti] INFO : Loaded config from /opt/xpal-data//avxpal.json\n",
      "2020-08-10 10:53:37 Dwarkanath-MainThread-[__init__] INFO : My name is \u001b[38;5;1mDwarkanath\u001b[0m\n",
      "2020-08-10 10:53:37 Dwarkanath-MainThread-[setup_disk] INFO : I already have a datapath at the location \u001b[38;5;3m/opt/xpal-data/xetrapal-data\u001b[0m\n",
      "2020-08-10 10:53:37 Dwarkanath-MainThread-[start_session] INFO : Creating a new path for this session at \u001b[38;5;3m/opt/xpal-data/xetrapal-data/Dwarkanath-2020Aug10-105337\u001b[0m\n",
      "2020-08-10 10:53:37 Dwarkanath-MainThread-[start_session] INFO : Creating a new download path for this session at \u001b[38;5;3m/opt/xpal-data/xetrapal-data/Dwarkanath-2020Aug10-105337/downloads\u001b[0m\n",
      "2020-08-10 10:53:37 Dwarkanath-MainThread-[start_session] INFO : Creating a new json path for this session at \u001b[38;5;3m/opt/xpal-data/xetrapal-data/Dwarkanath-2020Aug10-105337/json\u001b[0m \n",
      "2020-08-10 10:53:37 Dwarkanath-MainThread-[log_to_disk] INFO : Saving messages to log at \u001b[38;5;3m/opt/xpal-data/xetrapal-data/Dwarkanath-2020Aug10-105337/jeevasession.log\u001b[0m\n",
      "2020-08-10 10:53:37 Dwarkanath-MainThread-[dhaarana] INFO : Trying to load module xetrapal.astra\n",
      "2020-08-10 10:53:37 Dwarkanath-MainThread-[dhaarana] INFO : I now have functions ['get_browser', 'get_headless_browser', 'get_xpal_logger']\n",
      "2020-08-10 10:53:37 Dwarkanath-MainThread-[dhaarana] INFO : Trying to load module xetrapal.karma\n",
      "2020-08-10 10:53:37 Dwarkanath-MainThread-[dhaarana] INFO : I now have functions ['close_modal', 'copy_smriti', 'deepcopy', 'download_file', 'export_table', 'get_aadesh', 'get_browser', 'get_color_json', 'get_formatted_json', 'get_headless_browser', 'get_remote_smriti_status', 'get_smriti_status', 'get_xpal_logger', 'load_config', 'load_config_json', 'load_xpal_smriti', 'pull_smritis', 'save_config', 'save_data_to_jsonfile', 'scroll_page', 'scroll_to_bottom', 'scroll_up', 'urlopen', 'uuid4', 'wait']\n",
      "2020-08-10 10:53:37 Dwarkanath-MainThread-[update_astras] INFO : Trying to update astras\n",
      "2020-08-10 10:53:37 Dwarkanath-MainThread-[update_astras] WARNING : I dont seem to have any astras\n",
      "2020-08-10 10:53:37 Dwarkanath-MainThread-[update_vaahans] INFO : Trying to update vaahans\n",
      "2020-08-10 10:53:37 Dwarkanath-MainThread-[update_vaahans] WARNING : I dont seem to have any vaahans\n",
      "2020-08-10 10:53:37 Xpal-Sutradhar-MainThread-[gd_get_googledriver] INFO : Trying to log into Google drive\n"
     ]
    }
   ],
   "source": [
    "import xetrapal, pandas,json\n",
    "from xetrapal import gdastras\n",
    "a=xetrapal.karma.load_xpal_smriti(\"/opt/xpal-data//avxpal.json\")\n",
    "avxpal=xetrapal.Xetrapal(a)\n",
    "config=xetrapal.karma.load_config_json(a.configfile)\n",
    "pygsheetsconfig = xetrapal.karma.load_config_json(config['Pygsheets']['avdrive'])\n",
    "gd = gdastras.gd_get_googledriver(pygsheetsconfig)\n"
   ]
  },
  {
   "cell_type": "code",
   "execution_count": 2,
   "metadata": {},
   "outputs": [],
   "source": [
    "avsheet = gd.open(\"AV Master Tracker\")\n",
    "#rels=ndhmgraph.work"
   ]
  },
  {
   "cell_type": "code",
   "execution_count": 4,
   "metadata": {},
   "outputs": [
    {
     "ename": "NameError",
     "evalue": "name 'avsheet' is not defined",
     "output_type": "error",
     "traceback": [
      "\u001b[0;31m---------------------------------------------------------------------------\u001b[0m",
      "\u001b[0;31mNameError\u001b[0m                                 Traceback (most recent call last)",
      "\u001b[0;32m<ipython-input-4-4d86ff103c46>\u001b[0m in \u001b[0;36m<module>\u001b[0;34m\u001b[0m\n\u001b[0;32m----> 1\u001b[0;31m \u001b[0medgesheet\u001b[0m\u001b[0;34m=\u001b[0m\u001b[0mavsheet\u001b[0m\u001b[0;34m.\u001b[0m\u001b[0mworksheet_by_title\u001b[0m\u001b[0;34m(\u001b[0m\u001b[0;34m\"edges\"\u001b[0m\u001b[0;34m)\u001b[0m\u001b[0;34m\u001b[0m\u001b[0;34m\u001b[0m\u001b[0m\n\u001b[0m\u001b[1;32m      2\u001b[0m \u001b[0mnodesheet\u001b[0m\u001b[0;34m=\u001b[0m\u001b[0mavsheet\u001b[0m\u001b[0;34m.\u001b[0m\u001b[0mworksheet_by_title\u001b[0m\u001b[0;34m(\u001b[0m\u001b[0;34m\"nodes\"\u001b[0m\u001b[0;34m)\u001b[0m\u001b[0;34m\u001b[0m\u001b[0;34m\u001b[0m\u001b[0m\n",
      "\u001b[0;31mNameError\u001b[0m: name 'avsheet' is not defined"
     ]
    }
   ],
   "source": [
    "edgesheet=avsheet.worksheet_by_title(\"edges\")\n",
    "nodesheet=avsheet.worksheet_by_title(\"nodes\")"
   ]
  },
  {
   "cell_type": "code",
   "execution_count": null,
   "metadata": {
    "scrolled": true
   },
   "outputs": [],
   "source": [
    "edges = edgesheet.get_as_df(include_tailing_empty=False)\n",
    "edges\n",
    "# nodes = nodesheet.get_as_df(include_tailing_empty=False).dropna()"
   ]
  },
  {
   "cell_type": "code",
   "execution_count": null,
   "metadata": {},
   "outputs": [],
   "source": [
    "edges"
   ]
  },
  {
   "cell_type": "code",
   "execution_count": null,
   "metadata": {},
   "outputs": [],
   "source": [
    "links=edges.to_dict(orient=\"records\")\n",
    "links  \n"
   ]
  },
  {
   "cell_type": "code",
   "execution_count": null,
   "metadata": {},
   "outputs": [],
   "source": [
    "#def update_nodes(edges):\n",
    "nodescur=set(list(edges.source.unique())+list(edges.target.unique()))\n",
    "nodes=nodesheet.get_as_df()\n",
    "list(nodes.id.unique())\n",
    "for node in nodescur:\n",
    "    if node not in list(nodes.id.unique()):\n",
    "        print(node)\n",
    "        nodesheet.insert_rows(nodesheet.rows,values=[node,'Unknown'], inherit=True)\n",
    " "
   ]
  },
  {
   "cell_type": "code",
   "execution_count": null,
   "metadata": {},
   "outputs": [],
   "source": [
    "nodes=nodesheet.get_as_df()\n",
    "\n",
    "nodes['group']=nodes.category.apply(lambda x: list(nodes.category.unique()).index(x)+1)\n",
    "nodes"
   ]
  },
  {
   "cell_type": "code",
   "execution_count": null,
   "metadata": {},
   "outputs": [],
   "source": [
    "with open(\"RawData/graphdata.json\",\"w\") as f:\n",
    "    f.write(json.dumps({\"nodes\":nodes.to_dict(orient=\"records\"),\"links\":links}))\n",
    "    #f.write({\"nodes\":nodes.to_json(orient=\"records\"),\"links\":links})"
   ]
  },
  {
   "cell_type": "code",
   "execution_count": null,
   "metadata": {},
   "outputs": [],
   "source": [
    "list(nodes.category.unique())"
   ]
  },
  {
   "cell_type": "code",
   "execution_count": null,
   "metadata": {},
   "outputs": [],
   "source": [
    "%%html\n",
    "<iframe src=\"http://192.168.56.101/sheetgraph/directedlabelled.html\" width=\"1200\" height=\"1000\"></iframe>"
   ]
  },
  {
   "cell_type": "code",
   "execution_count": null,
   "metadata": {},
   "outputs": [],
   "source": []
  },
  {
   "cell_type": "code",
   "execution_count": null,
   "metadata": {},
   "outputs": [],
   "source": []
  },
  {
   "cell_type": "code",
   "execution_count": null,
   "metadata": {},
   "outputs": [],
   "source": []
  },
  {
   "cell_type": "code",
   "execution_count": null,
   "metadata": {
    "scrolled": true
   },
   "outputs": [],
   "source": []
  },
  {
   "cell_type": "code",
   "execution_count": null,
   "metadata": {},
   "outputs": [],
   "source": []
  },
  {
   "cell_type": "code",
   "execution_count": null,
   "metadata": {},
   "outputs": [],
   "source": []
  }
 ],
 "metadata": {
  "kernelspec": {
   "display_name": "Python 3",
   "language": "python",
   "name": "python3"
  },
  "language_info": {
   "codemirror_mode": {
    "name": "ipython",
    "version": 3
   },
   "file_extension": ".py",
   "mimetype": "text/x-python",
   "name": "python",
   "nbconvert_exporter": "python",
   "pygments_lexer": "ipython3",
   "version": "3.8.2"
  }
 },
 "nbformat": 4,
 "nbformat_minor": 4
}
